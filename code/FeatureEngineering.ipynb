{
 "cells": [
  {
   "cell_type": "code",
   "execution_count": 1,
   "id": "d885a6ce",
   "metadata": {
    "colab": {
     "base_uri": "https://localhost:8080/"
    },
    "id": "Kk43419t4dzT",
    "outputId": "2bf00b6f-d7f6-4a48-a78e-05bdb6b9d7d0"
   },
   "outputs": [],
   "source": [
    "# Google Drive mount for colab\n",
    "#from google.colab import drive\n",
    "#drive.mount('/content/drive')\n",
    "\n",
    "# After mounting, /drive/MyDrive/ should appear on the left in Files tab\n",
    "# Go to your own Google Drive, create a /cz4041/ folder, and upload the zip and csv files there\n",
    "# It should appear in the files tab under /drive/MyDrive/cz4041/"
   ]
  },
  {
   "cell_type": "markdown",
   "id": "8f54e743",
   "metadata": {
    "id": "1b36853f-29b3-48d1-a364-19db616a4801"
   },
   "source": [
    "# Data Pre Processing"
   ]
  },
  {
   "cell_type": "code",
   "execution_count": 2,
   "id": "4c19e7b6",
   "metadata": {
    "id": "aea06625-2d66-4ff1-92cc-6063222bb130"
   },
   "outputs": [],
   "source": [
    "# import packages\n",
    "import os\n",
    "import pprint\n",
    "from math import sqrt\n",
    "import pandas as pd\n",
    "import numpy as np\n",
    "import matplotlib.pyplot as plt\n",
    "import plotly.express as px\n",
    "from sklearn import preprocessing\n",
    "from sklearn.preprocessing import Normalizer\n",
    "from sklearn.impute import KNNImputer\n",
    "from sklearn.ensemble import RandomForestClassifier\n",
    "from sklearn.feature_selection import SelectFromModel\n",
    "from sklearn.model_selection import train_test_split, RandomizedSearchCV, GridSearchCV\n",
    "from sklearn.metrics import mean_squared_error\n",
    "import seaborn as sns\n",
    "from sklearn.ensemble import RandomForestRegressor\n",
    "from sklearn.ensemble import AdaBoostRegressor\n",
    "from sklearn.linear_model import SGDRegressor\n",
    "from sklearn.tree import DecisionTreeRegressor\n",
    "from xgboost import XGBRegressor\n",
    "from tqdm.notebook import tqdm_notebook\n",
    "from IPython.display import HTML, display\n",
    "\n",
    "# pandas display options\n",
    "pd.set_option('display.max_columns', 150)\n",
    "pd.set_option('display.max_rows', 300)\n",
    "pd.set_option('float_format', '{:,.4f}'.format) # All float will be displayed in 4 d.p. with comma to separate thousands"
   ]
  },
  {
   "cell_type": "code",
   "execution_count": 3,
   "id": "41d818ca",
   "metadata": {
    "id": "c9a97915-f943-48ad-9cda-30118a703fd0"
   },
   "outputs": [],
   "source": [
    "# datasets paths\n",
    "path = \"../data\"\n",
    "#path = \"/content/drive/MyDrive/cz4041/\" # path to Google Drive, for colab\n",
    "macro = os.path.join(path, \"macro.csv\")\n",
    "train = os.path.join(path, \"train.zip\")\n",
    "test = os.path.join(path,  \"test.zip\")\n",
    "\n",
    "# place all datasets paths in a datasets dict\n",
    "datasets = {}\n",
    "datasets['macro'] = macro\n",
    "datasets['train'] = train\n",
    "datasets['test'] = test\n",
    "\n",
    "# load dataframes into dfs dict\n",
    "dfs = {}\n",
    "for dataset_name, path in datasets.items():\n",
    "    df = pd.read_csv(path)\n",
    "    dfs[dataset_name] = df\n",
    "\n",
    "# assign to own df variables when you want to use them individually\n",
    "df_macro = dfs['macro']\n",
    "df_train = dfs['train']\n",
    "df_test = dfs['test']"
   ]
  },
  {
   "cell_type": "markdown",
   "id": "2192892c",
   "metadata": {
    "id": "c0c7eca0-bddb-4322-967b-837c1694db7d",
    "tags": []
   },
   "source": [
    "## Overview of datasets"
   ]
  },
  {
   "cell_type": "markdown",
   "id": "25d58092",
   "metadata": {
    "id": "329adc68-c5ea-4656-a7dc-26dccbff516d"
   },
   "source": [
    "**Dataset size & Number of distinct datatypes**"
   ]
  },
  {
   "cell_type": "code",
   "execution_count": 4,
   "id": "5daab718",
   "metadata": {
    "colab": {
     "base_uri": "https://localhost:8080/"
    },
    "id": "393d7704-805e-49e9-afd5-c17434b341ea",
    "outputId": "9029b006-6c55-4c4c-ad01-7d3ac56956af"
   },
   "outputs": [
    {
     "name": "stdout",
     "output_type": "stream",
     "text": [
      "====== Dataset size - macro: (2484, 100) ======\n",
      "Number of distinct datatypes: \n",
      "<class 'numpy.dtype[float64]'>    94\n",
      "<class 'numpy.dtype[object_]'>     4\n",
      "<class 'numpy.dtype[int64]'>       2\n",
      "dtype: int64\n",
      "====== Dataset size - train: (30471, 292) ======\n",
      "Number of distinct datatypes: \n",
      "<class 'numpy.dtype[int64]'>      157\n",
      "<class 'numpy.dtype[float64]'>    119\n",
      "<class 'numpy.dtype[object_]'>     16\n",
      "dtype: int64\n",
      "====== Dataset size - test: (7662, 291) ======\n",
      "Number of distinct datatypes: \n",
      "<class 'numpy.dtype[int64]'>      159\n",
      "<class 'numpy.dtype[float64]'>    116\n",
      "<class 'numpy.dtype[object_]'>     16\n",
      "dtype: int64\n"
     ]
    }
   ],
   "source": [
    "for dataset_name, df in dfs.items():\n",
    "    print(\"====== Dataset size - {}: {} ======\".format(dataset_name , df.shape))\n",
    "    print(\"Number of distinct datatypes: \\n{}\".format(df.dtypes.map(type).value_counts()))"
   ]
  },
  {
   "cell_type": "markdown",
   "id": "7410226f",
   "metadata": {},
   "source": [
    "**Prepare dataset for datacleaning**"
   ]
  },
  {
   "cell_type": "code",
   "execution_count": 5,
   "id": "920dfaab",
   "metadata": {
    "id": "0d607c8a-6fa0-4aa6-9fb5-06b317a94dce"
   },
   "outputs": [
    {
     "name": "stdout",
     "output_type": "stream",
     "text": [
      "(38133, 291)\n"
     ]
    }
   ],
   "source": [
    "# Copy train price out to facilitate train & test split later\n",
    "trainPrice = dfs[\"train\"][[\"id\", \"price_doc\"]].copy()\n",
    "\n",
    "# Concat train dataset (minus price_doc) and test dataset for data cleaning\n",
    "trainNoPrice = dfs[\"train\"].drop(\"price_doc\", axis = 1)\n",
    "\n",
    "mergeData = pd.concat([trainNoPrice, dfs[\"test\"]])\n",
    "print(mergeData.shape)\n"
   ]
  },
  {
   "cell_type": "markdown",
   "id": "0f89e283",
   "metadata": {},
   "source": [
    "## Cleaning of Data"
   ]
  },
  {
   "cell_type": "markdown",
   "id": "c74d48b1",
   "metadata": {},
   "source": [
    "**Since we are predicting price, we will want to drop columns that have low correlation value to 'price_doc'**"
   ]
  },
  {
   "cell_type": "code",
   "execution_count": 6,
   "id": "b643c288",
   "metadata": {},
   "outputs": [
    {
     "name": "stdout",
     "output_type": "stream",
     "text": [
      "build_year                     0.0022\n",
      "kitch_sq                       0.0287\n",
      "school_quota                   0.0140\n",
      "culture_objects_top_25_raion   0.0443\n",
      "full_all                       0.0253\n",
      "male_f                         0.0264\n",
      "female_f                       0.0243\n",
      "16_29_all                      0.0223\n",
      "16_29_male                     0.0231\n",
      "16_29_female                   0.0216\n",
      "build_count_block              0.0315\n",
      "build_count_wood               0.0425\n",
      "build_count_frame              0.0303\n",
      "build_count_panel              0.0201\n",
      "build_count_foam               0.0107\n",
      "build_count_slag               0.0240\n",
      "build_count_mix                0.0330\n",
      "build_count_1921-1945          0.0203\n",
      "build_count_1971-1995          0.0097\n",
      "build_count_after_1995         0.0259\n",
      "cemetery_km                    0.0249\n",
      "ID_railroad_station_walk       0.0218\n",
      "water_km                       0.0266\n",
      "mkad_km                        0.0206\n",
      "big_market_km                  0.0483\n",
      "prom_part_500                  0.0090\n",
      "trc_sqm_500                    0.0004\n",
      "cafe_sum_500_min_price_avg     0.0364\n",
      "cafe_sum_500_max_price_avg     0.0379\n",
      "cafe_avg_price_500             0.0374\n",
      "cafe_count_500_na_price        0.0492\n",
      "big_church_count_500           0.0262\n",
      "church_count_500               0.0147\n",
      "mosque_count_500               0.0185\n",
      "market_count_500               0.0404\n",
      "trc_sqm_1000                   0.0416\n",
      "cafe_count_1000_price_4000     0.0363\n",
      "prom_part_3000                 0.0227\n",
      "cafe_sum_3000_min_price_avg    0.0051\n",
      "cafe_sum_3000_max_price_avg    0.0022\n",
      "cafe_avg_price_3000            0.0033\n",
      "cafe_sum_5000_min_price_avg    0.0322\n",
      "cafe_sum_5000_max_price_avg    0.0333\n",
      "cafe_avg_price_5000            0.0329\n",
      "Name: price_doc, dtype: float64 , 44\n"
     ]
    }
   ],
   "source": [
    "# get the correlation to 'price_doc' in train dataset\n",
    "trainCorr = abs(dfs[\"train\"].corr()[\"price_doc\"])\n",
    "\n",
    "# pick out features that have less than 5% correlation to be dropped\n",
    "threshold = trainCorr <= 0.05\n",
    "lowCorrFeats = trainCorr[threshold]\n",
    "print(lowCorrFeats, \",\", len(lowCorrFeats))"
   ]
  },
  {
   "cell_type": "code",
   "execution_count": 7,
   "id": "b657f737",
   "metadata": {},
   "outputs": [
    {
     "name": "stdout",
     "output_type": "stream",
     "text": [
      "(38133, 247)\n"
     ]
    }
   ],
   "source": [
    "# drop\n",
    "mergeData.drop(list(lowCorrFeats.index), axis = 1, inplace = True)\n",
    "print(mergeData.shape)"
   ]
  },
  {
   "cell_type": "code",
   "execution_count": 8,
   "id": "694dea85",
   "metadata": {},
   "outputs": [
    {
     "name": "stdout",
     "output_type": "stream",
     "text": [
      "(38133, 241)\n"
     ]
    }
   ],
   "source": [
    "# Drop columns with 'ID' in name as they do not provide much value\n",
    "\n",
    "IDfeats = [feat for feat in mergeData.columns if \"ID\" in feat]\n",
    "mergeData.drop(IDfeats, axis = 1, inplace = True)\n",
    "print(mergeData.shape)"
   ]
  },
  {
   "cell_type": "code",
   "execution_count": 9,
   "id": "ea072060",
   "metadata": {},
   "outputs": [],
   "source": [
    "# Replace data in the following columns\n",
    "mergeData.state.replace({33:3},inplace=True)\n",
    "mergeData[\"material\"].replace(to_replace = 3, value = 1, inplace = True)\n",
    "mergeData[\"full_sq\"].replace(to_replace = 0, value = np.nan, inplace = True)\n",
    "mergeData[\"max_floor\"].replace(to_replace = 0, value = np.nan, inplace = True)\n",
    "mergeData[\"num_room\"].replace(to_replace = 0, value = np.nan, inplace = True)"
   ]
  },
  {
   "cell_type": "markdown",
   "id": "b45fd599",
   "metadata": {},
   "source": [
    "## Feature Engineering"
   ]
  },
  {
   "cell_type": "code",
   "execution_count": 10,
   "id": "5813e7b6",
   "metadata": {},
   "outputs": [
    {
     "name": "stdout",
     "output_type": "stream",
     "text": [
      "(38133, 251)\n"
     ]
    }
   ],
   "source": [
    "# create 'year' and 'year_month' features from 'timestamp'\n",
    "mergeData[\"year\"] = mergeData[\"timestamp\"].apply(lambda x: int(x[0:4]))\n",
    "mergeData[\"year_month\"] = mergeData[\"timestamp\"].apply(lambda x: x[0:7])\\\n",
    "\n",
    "# create 'living_area_ratio', 'non_living_area' and 'non_living_area_ratio' from 'life_sq' and 'full_sq'\n",
    "mergeData[\"living_area_ratio\"] = mergeData[\"life_sq\"] / mergeData[\"full_sq\"]\n",
    "mergeData[\"non_living_area\"] = mergeData[\"full_sq\"] - mergeData[\"life_sq\"]\n",
    "mergeData[\"non_living_area_ratio\"] = mergeData[\"non_living_area\"] / mergeData[\"full_sq\"]\n",
    "\n",
    "# create 'room_area_avg' from 'life_sq' and 'num_room'\n",
    "mergeData[\"room_area_avg\"] = mergeData[\"life_sq\"] / mergeData[\"num_room\"]\n",
    "\n",
    "# create 'relative_floor' from 'floor' and 'max_floor'\n",
    "mergeData[\"relative_floor\"] = mergeData[\"floor\"] / mergeData[\"max_floor\"]\n",
    "\n",
    "# create 'sub_area_building_height_avg' from 'sub_area' and 'max_floor'\n",
    "sub_area_building_avg = mergeData.groupby('sub_area').agg({'max_floor':np.mean}).reset_index().rename(columns={'max_floor':'sub_area_building_height_avg'})\n",
    "mergeData = pd.merge(mergeData, sub_area_building_avg, on = ['sub_area'], how = 'left')\n",
    "\n",
    "# create 'sub_area_kremlin_dist_avg' from 'sub_area' and 'kremlin_km'\n",
    "kremlin_dist = mergeData.groupby('sub_area').agg({'kremlin_km':np.nanmean}).reset_index().rename(columns={'kremlin_km':'sub_area_kremlin_dist_avg'})\n",
    "mergeData = pd.merge(mergeData, kremlin_dist, on = ['sub_area'], how = 'left')\n",
    "\n",
    "# create 'sales_year_month' from 'year_month'\n",
    "sales_year_month = mergeData.groupby('year_month').size().reset_index().rename(columns={0:'sales_year_month'})\n",
    "mergeData = pd.merge(mergeData, sales_year_month, on = ['year_month'], how = 'left')\n",
    "\n",
    "print(mergeData.shape)"
   ]
  },
  {
   "cell_type": "markdown",
   "id": "6efc831c",
   "metadata": {},
   "source": [
    "## Handling Missing Values"
   ]
  },
  {
   "cell_type": "code",
   "execution_count": 11,
   "id": "ef0bdc3c",
   "metadata": {},
   "outputs": [
    {
     "name": "stdout",
     "output_type": "stream",
     "text": [
      "hospital_beds_raion                      17859\n",
      "room_area_avg                            14897\n",
      "state                                    14253\n",
      "max_floor                                10355\n",
      "relative_floor                           10355\n",
      "num_room                                  9586\n",
      "material                                  9572\n",
      "preschool_quota                           8284\n",
      "cafe_sum_1000_max_price_avg               7746\n",
      "cafe_sum_1000_min_price_avg               7746\n",
      "cafe_avg_price_1000                       7746\n",
      "living_area_ratio                         7562\n",
      "non_living_area_ratio                     7562\n",
      "non_living_area                           7562\n",
      "life_sq                                   7559\n",
      "build_count_brick                         6209\n",
      "raion_build_count_with_builddate_info     6209\n",
      "build_count_before_1920                   6209\n",
      "build_count_monolith                      6209\n",
      "build_count_1946-1970                     6209\n",
      "raion_build_count_with_material_info      6209\n",
      "cafe_sum_1500_min_price_avg               5020\n",
      "cafe_sum_1500_max_price_avg               5020\n",
      "cafe_avg_price_1500                       5020\n",
      "cafe_avg_price_2000                       2149\n",
      "cafe_sum_2000_max_price_avg               2149\n",
      "cafe_sum_2000_min_price_avg               2149\n",
      "prom_part_5000                             270\n",
      "floor                                      167\n",
      "metro_min_walk                              59\n",
      "metro_km_walk                               59\n",
      "railroad_station_walk_min                   59\n",
      "railroad_station_walk_km                    59\n",
      "product_type                                33\n",
      "green_part_2000                             19\n",
      "full_sq                                      3\n",
      "dtype: int64\n",
      "\r\n",
      "Missing Values Count: 36\n"
     ]
    }
   ],
   "source": [
    "# find out columns that have missing values\n",
    "missing_vals = ((mergeData.isna().sum()))\n",
    "missing_vals.sort_values(ascending = False, inplace = True)\n",
    "print(missing_vals[missing_vals > 0])\n",
    "print(\"\\r\\nMissing Values Count: \" + str(len(missing_vals[missing_vals > 0])))"
   ]
  },
  {
   "cell_type": "code",
   "execution_count": 12,
   "id": "cc9da6c9",
   "metadata": {},
   "outputs": [
    {
     "name": "stdout",
     "output_type": "stream",
     "text": [
      "hospital_beds_raion                     0.4683\n",
      "room_area_avg                           0.3907\n",
      "state                                   0.3738\n",
      "max_floor                               0.2715\n",
      "relative_floor                          0.2715\n",
      "num_room                                0.2514\n",
      "material                                0.2510\n",
      "preschool_quota                         0.2172\n",
      "cafe_sum_1000_max_price_avg             0.2031\n",
      "cafe_sum_1000_min_price_avg             0.2031\n",
      "cafe_avg_price_1000                     0.2031\n",
      "living_area_ratio                       0.1983\n",
      "non_living_area_ratio                   0.1983\n",
      "non_living_area                         0.1983\n",
      "life_sq                                 0.1982\n",
      "build_count_brick                       0.1628\n",
      "raion_build_count_with_builddate_info   0.1628\n",
      "build_count_before_1920                 0.1628\n",
      "build_count_monolith                    0.1628\n",
      "build_count_1946-1970                   0.1628\n",
      "raion_build_count_with_material_info    0.1628\n",
      "cafe_sum_1500_min_price_avg             0.1316\n",
      "cafe_sum_1500_max_price_avg             0.1316\n",
      "cafe_avg_price_1500                     0.1316\n",
      "cafe_avg_price_2000                     0.0564\n",
      "cafe_sum_2000_max_price_avg             0.0564\n",
      "cafe_sum_2000_min_price_avg             0.0564\n",
      "prom_part_5000                          0.0071\n",
      "floor                                   0.0044\n",
      "metro_min_walk                          0.0015\n",
      "metro_km_walk                           0.0015\n",
      "railroad_station_walk_min               0.0015\n",
      "railroad_station_walk_km                0.0015\n",
      "product_type                            0.0009\n",
      "green_part_2000                         0.0005\n",
      "full_sq                                 0.0001\n",
      "dtype: float64\n",
      "\r\n",
      "Missing Values Count: 36\n"
     ]
    }
   ],
   "source": [
    "# get the missing values in percentage\n",
    "missing_vals_pct = ((mergeData.isna().sum()) / len(mergeData))\n",
    "missing_vals_pct.sort_values(ascending = False, inplace = True)\n",
    "print(missing_vals_pct[missing_vals_pct > 0])\n",
    "print(\"\\r\\nMissing Values Count: \" + str(len(missing_vals_pct[missing_vals_pct > 0])))"
   ]
  },
  {
   "cell_type": "markdown",
   "id": "50cfde8b",
   "metadata": {},
   "source": [
    "**Median Imputation for missing values lesser or equal to 30%**"
   ]
  },
  {
   "cell_type": "code",
   "execution_count": 13,
   "id": "65729e23",
   "metadata": {},
   "outputs": [
    {
     "name": "stdout",
     "output_type": "stream",
     "text": [
      "Index(['max_floor', 'relative_floor', 'num_room', 'material',\n",
      "       'preschool_quota', 'cafe_sum_1000_max_price_avg',\n",
      "       'cafe_sum_1000_min_price_avg', 'cafe_avg_price_1000',\n",
      "       'living_area_ratio', 'non_living_area_ratio', 'non_living_area',\n",
      "       'life_sq', 'build_count_brick', 'raion_build_count_with_builddate_info',\n",
      "       'build_count_before_1920', 'build_count_monolith',\n",
      "       'build_count_1946-1970', 'raion_build_count_with_material_info',\n",
      "       'cafe_sum_1500_min_price_avg', 'cafe_sum_1500_max_price_avg',\n",
      "       'cafe_avg_price_1500', 'cafe_avg_price_2000',\n",
      "       'cafe_sum_2000_max_price_avg', 'cafe_sum_2000_min_price_avg',\n",
      "       'prom_part_5000', 'floor', 'metro_min_walk', 'metro_km_walk',\n",
      "       'railroad_station_walk_min', 'railroad_station_walk_km', 'product_type',\n",
      "       'green_part_2000', 'full_sq'],\n",
      "      dtype='object')\n"
     ]
    }
   ],
   "source": [
    "print(missing_vals_pct[(missing_vals_pct > 0) & (missing_vals_pct <= 0.3000)].index)\n",
    "\n",
    "for feat in missing_vals_pct[(missing_vals_pct > 0) & (missing_vals_pct <= 0.3000)].index:\n",
    "    try:\n",
    "        mergeData[feat].fillna(mergeData[feat].median(), inplace = True)\n",
    "    except:\n",
    "        mergeData[feat].fillna(mergeData[feat].mode()[0], inplace = True)"
   ]
  },
  {
   "cell_type": "code",
   "execution_count": 14,
   "id": "cd8f75c0",
   "metadata": {},
   "outputs": [
    {
     "name": "stdout",
     "output_type": "stream",
     "text": [
      "hospital_beds_raion   0.4683\n",
      "room_area_avg         0.3907\n",
      "state                 0.3738\n",
      "dtype: float64\n",
      "\r\n",
      "Missing Values Count: 3\n"
     ]
    }
   ],
   "source": [
    "# check remaining missing values in percentage\n",
    "missing_vals_pct = ((mergeData.isna().sum()) / len(mergeData))\n",
    "missing_vals_pct.sort_values(ascending = False, inplace = True)\n",
    "print(missing_vals_pct[missing_vals_pct > 0])\n",
    "print(\"\\r\\nMissing Values Count: \" + str(len(missing_vals_pct[missing_vals_pct > 0])))"
   ]
  },
  {
   "cell_type": "markdown",
   "id": "329eccd1",
   "metadata": {},
   "source": [
    "**KNN Imputer for remaining missing values greater than 30%**"
   ]
  },
  {
   "cell_type": "code",
   "execution_count": 16,
   "id": "7bf78963",
   "metadata": {},
   "outputs": [
    {
     "data": {
      "application/vnd.jupyter.widget-view+json": {
       "model_id": "b62ab85254634387abe76bba3adbb7ab",
       "version_major": 2,
       "version_minor": 0
      },
      "text/plain": [
       "  0%|          | 0/3 [00:00<?, ?it/s]"
      ]
     },
     "metadata": {},
     "output_type": "display_data"
    }
   ],
   "source": [
    "# sklearn KNNImputer\n",
    "imputer = KNNImputer(n_neighbors=3)\n",
    "\n",
    "missingCol = list(missing_vals_pct[missing_vals_pct > 0].index)\n",
    "\n",
    "for i in tqdm_notebook(missingCol):\n",
    "    mergeData[i] = imputer.fit_transform(mergeData[[i]])"
   ]
  },
  {
   "cell_type": "code",
   "execution_count": 17,
   "id": "3760067b",
   "metadata": {},
   "outputs": [
    {
     "name": "stdout",
     "output_type": "stream",
     "text": [
      "Series([], dtype: float64)\n",
      "\r\n",
      "Missing Values Count: 0\n",
      "\r\n",
      "(38133, 251)\n"
     ]
    }
   ],
   "source": [
    "# check for any remaining missing values\n",
    "missing_vals_pct = ((mergeData.isna().sum()) / len(mergeData))\n",
    "missing_vals_pct.sort_values(ascending = False, inplace = True)\n",
    "print(missing_vals_pct[missing_vals_pct > 0])\n",
    "print(\"\\r\\nMissing Values Count: \" + str(len(missing_vals_pct[missing_vals_pct > 0])))\n",
    "print(\"\\r\\n\" + str(mergeData.shape))"
   ]
  },
  {
   "cell_type": "markdown",
   "id": "4552e35e",
   "metadata": {},
   "source": [
    "## Prepare Train and Test datasets"
   ]
  },
  {
   "cell_type": "code",
   "execution_count": 18,
   "id": "a6654913",
   "metadata": {},
   "outputs": [],
   "source": [
    "# Using 'trainPrice' dataset from earlier to split 'mergeData' back into train and test datasets\n",
    "xTrain = mergeData[mergeData[\"id\"].isin(trainPrice[\"id\"])]\n",
    "xTrain = pd.merge(xTrain, trainPrice, on = [\"id\"], how = \"inner\")\n",
    "\n",
    "xTest = mergeData[~mergeData[\"id\"].isin(trainPrice[\"id\"])]\n",
    "\n",
    "yTrain = xTrain[\"price_doc\"].apply(lambda j: np.log1p(j))\n",
    "xTrain.drop(columns = [\"id\", \"timestamp\", \"price_doc\"], axis = 1, inplace = True)"
   ]
  },
  {
   "cell_type": "code",
   "execution_count": 19,
   "id": "e384fa36",
   "metadata": {},
   "outputs": [],
   "source": [
    "# split into training and cross-validation\n",
    "x_tr, x_cv, y_tr, y_cv = train_test_split(xTrain, yTrain, test_size=0.15,random_state=42)"
   ]
  },
  {
   "cell_type": "code",
   "execution_count": 20,
   "id": "c45463f8",
   "metadata": {},
   "outputs": [
    {
     "name": "stderr",
     "output_type": "stream",
     "text": [
      "C:\\Users\\wehweh\\AppData\\Local\\Temp/ipykernel_9756/1337914271.py:14: SettingWithCopyWarning: \n",
      "A value is trying to be set on a copy of a slice from a DataFrame.\n",
      "Try using .loc[row_indexer,col_indexer] = value instead\n",
      "\n",
      "See the caveats in the documentation: https://pandas.pydata.org/pandas-docs/stable/user_guide/indexing.html#returning-a-view-versus-a-copy\n",
      "  x_cv[cat] = x_cv[cat].map(lambda s: '<unknown>' if s not in le.classes_ else s)\n",
      "C:\\Users\\wehweh\\AppData\\Local\\Temp/ipykernel_9756/1337914271.py:17: SettingWithCopyWarning: \n",
      "A value is trying to be set on a copy of a slice from a DataFrame.\n",
      "Try using .loc[row_indexer,col_indexer] = value instead\n",
      "\n",
      "See the caveats in the documentation: https://pandas.pydata.org/pandas-docs/stable/user_guide/indexing.html#returning-a-view-versus-a-copy\n",
      "  x_tr[cat] = le.transform(x_tr[cat])\n",
      "C:\\Users\\wehweh\\AppData\\Local\\Temp/ipykernel_9756/1337914271.py:18: SettingWithCopyWarning: \n",
      "A value is trying to be set on a copy of a slice from a DataFrame.\n",
      "Try using .loc[row_indexer,col_indexer] = value instead\n",
      "\n",
      "See the caveats in the documentation: https://pandas.pydata.org/pandas-docs/stable/user_guide/indexing.html#returning-a-view-versus-a-copy\n",
      "  x_cv[cat] = le.transform(x_cv[cat])\n",
      "C:\\Users\\wehweh\\AppData\\Local\\Temp/ipykernel_9756/1337914271.py:24: SettingWithCopyWarning: \n",
      "A value is trying to be set on a copy of a slice from a DataFrame.\n",
      "Try using .loc[row_indexer,col_indexer] = value instead\n",
      "\n",
      "See the caveats in the documentation: https://pandas.pydata.org/pandas-docs/stable/user_guide/indexing.html#returning-a-view-versus-a-copy\n",
      "  x_tr[num] = (x_tr[num] - min)/(max-min)\n",
      "C:\\Users\\wehweh\\AppData\\Local\\Temp/ipykernel_9756/1337914271.py:25: SettingWithCopyWarning: \n",
      "A value is trying to be set on a copy of a slice from a DataFrame.\n",
      "Try using .loc[row_indexer,col_indexer] = value instead\n",
      "\n",
      "See the caveats in the documentation: https://pandas.pydata.org/pandas-docs/stable/user_guide/indexing.html#returning-a-view-versus-a-copy\n",
      "  x_cv[num] = (x_cv[num] - min)/(max-min)\n"
     ]
    }
   ],
   "source": [
    "# process categorical ('object') and numerical (non 'object') type data using label encoder\n",
    "\n",
    "categoricals = xTrain.select_dtypes(include = [\"object\"]).copy()\n",
    "numericals = xTrain.select_dtypes(exclude = [\"object\"])\n",
    "\n",
    "# categoricals = xTrain.dtypes[(xTrain.dtypes == object)].copy()\n",
    "# numericals = xTrain.dtypes[(xTrain.dtypes != object)].copy()\n",
    "\n",
    "# categoricals\n",
    "for cat in categoricals:\n",
    "  le = preprocessing.LabelEncoder()\n",
    "  le.fit(x_tr[cat])\n",
    "\n",
    "  x_cv[cat] = x_cv[cat].map(lambda s: '<unknown>' if s not in le.classes_ else s)\n",
    "  le.classes_ = np.append(le.classes_, '<unknown>')\n",
    "\n",
    "  x_tr[cat] = le.transform(x_tr[cat])\n",
    "  x_cv[cat] = le.transform(x_cv[cat])\n",
    "\n",
    "# numericals\n",
    "for num in numericals:\n",
    "  min = x_tr[num].min()\n",
    "  max = x_tr[num].max()\n",
    "  x_tr[num] = (x_tr[num] - min)/(max-min)\n",
    "  x_cv[num] = (x_cv[num] - min)/(max-min)"
   ]
  },
  {
   "cell_type": "code",
   "execution_count": 21,
   "id": "a1353cae",
   "metadata": {},
   "outputs": [
    {
     "name": "stdout",
     "output_type": "stream",
     "text": [
      "False\n",
      "False\n"
     ]
    }
   ],
   "source": [
    "# check any null values\n",
    "print(x_tr.isnull().values.any())\n",
    "print(x_cv.isnull().values.any())"
   ]
  },
  {
   "cell_type": "markdown",
   "id": "acbfbbcd",
   "metadata": {},
   "source": [
    "# Testing the Models"
   ]
  },
  {
   "cell_type": "code",
   "execution_count": null,
   "id": "782cbb11",
   "metadata": {},
   "outputs": [],
   "source": [
    "# result array\n",
    "resArr = []"
   ]
  },
  {
   "cell_type": "markdown",
   "id": "afe46e74",
   "metadata": {},
   "source": [
    "## 1. Random Forest"
   ]
  },
  {
   "cell_type": "code",
   "execution_count": null,
   "id": "b1d01da7",
   "metadata": {},
   "outputs": [],
   "source": [
    "# Select best features\n",
    "sel = SelectFromModel(RandomForestRegressor(n_jobs = -1, max_depth = 10))\n",
    "sel.fit(x_tr, y_tr)\n",
    "\n",
    "trainFiltered = sel.transform(x_tr)\n",
    "testFiltered = sel.transform(x_cv)\n",
    "\n",
    "print(\"Train (after feature selection): \" + str(trainFiltered.shape))\n",
    "print(\"Test (after feature selection) : \" + str(testFiltered.shape))"
   ]
  },
  {
   "cell_type": "code",
   "execution_count": null,
   "id": "460912fc",
   "metadata": {},
   "outputs": [],
   "source": [
    "# define parameter distributions to use for tuning\n",
    "paramDist = {\n",
    "    'n_estimators': [50, 100, 150, 200, 250, 300],\n",
    "    'max_depth': [10, 11, 12, 13, 14, 15]\n",
    "}\n",
    "\n",
    "# use RandomizedSearchCV to determine best values for parameters\n",
    "randomSearchModel = RandomizedSearchCV(RandomForestRegressor(), param_distributions = paramDist, verbose = 10, n_jobs = -1, cv = 2, n_iter = 15)\n",
    "randomSearchModel.fit(trainFiltered, y_tr)"
   ]
  },
  {
   "cell_type": "code",
   "execution_count": null,
   "id": "3b7ccd16",
   "metadata": {},
   "outputs": [],
   "source": [
    "print(\"Best Parameter values: \")\n",
    "print(randomSearchModel.best_params_)\n",
    "print(\"\\r\\nBest Score: \")\n",
    "print(randomSearchModel.best_score_)"
   ]
  },
  {
   "cell_type": "code",
   "execution_count": null,
   "id": "a11e845d",
   "metadata": {},
   "outputs": [],
   "source": [
    "# Tune the Model with the best hyperparameters\n",
    "rfrModel = RandomForestRegressor(\n",
    "    n_estimators = randomSearchModel.best_params_['n_estimators'],\n",
    "    max_depth = randomSearchModel.best_params_['max_depth'],\n",
    "    random_state = 42,\n",
    "    n_jobs = -1\n",
    ")\n",
    "rfrModel.fit(x_tr, y_tr)"
   ]
  },
  {
   "cell_type": "code",
   "execution_count": null,
   "id": "1b3e7857",
   "metadata": {},
   "outputs": [],
   "source": [
    "# predict on train data\n",
    "yPred = rfrModel.predict(x_tr)\n",
    "trainMse = mean_squared_error(y_tr, yPred)\n",
    "print(\"Predict Train\")\n",
    "print(\"MSE : %.4f\" % trainMse)"
   ]
  },
  {
   "cell_type": "code",
   "execution_count": null,
   "id": "ea36d876",
   "metadata": {
    "scrolled": true
   },
   "outputs": [],
   "source": [
    "# predict on test data\n",
    "yPred = rfrModel.predict(x_cv)\n",
    "testMse = mean_squared_error(y_cv, yPred)\n",
    "print(\"Predict Test\")\n",
    "print(\"MSE : %.4f\" % testMse)"
   ]
  },
  {
   "cell_type": "code",
   "execution_count": null,
   "id": "f70d0efe",
   "metadata": {},
   "outputs": [],
   "source": [
    "# add to result array\n",
    "resArr.append([\"Random Forest\", str(\"%.4f\" % trainMse), str(\"%.4f\" % testMse), \"-\", \"-\"])"
   ]
  },
  {
   "cell_type": "markdown",
   "id": "9e3bc2cc",
   "metadata": {},
   "source": [
    "###  Predict on test.csv test data"
   ]
  },
  {
   "cell_type": "code",
   "execution_count": null,
   "id": "06ae493a",
   "metadata": {},
   "outputs": [],
   "source": [
    "# do prep: process.. run pred\n",
    "testRF = xTest.copy()\n",
    "test_id = testRF['id']\n",
    "testRF.drop(['id', 'timestamp'], axis = 1, inplace = True)\n",
    "\n",
    "# process datatype\n",
    "categoricals = xTrain.select_dtypes(include = [\"object\"]).copy()\n",
    "numericals = xTrain.select_dtypes(exclude = [\"object\"])\n",
    "\n",
    "for c in categoricals:\n",
    "    le = preprocessing.LabelEncoder()\n",
    "    le.fit(xTrain[c])\n",
    "\n",
    "    testRF[c] = testRF[c].map(lambda s: \"<unknown>\" if s not in le.classes_ else s)\n",
    "    le.classes_ = np.append(le.classes_, \"<unknown>\")\n",
    "\n",
    "    testRF[c] = le.transform(testRF[c])\n",
    "\n",
    "for n in numericals:\n",
    "    min = xTrain[n].min()\n",
    "    max = xTrain[n].max()\n",
    "\n",
    "    testRF[n] = (testRF[n] - min) / (max - min)"
   ]
  },
  {
   "cell_type": "code",
   "execution_count": null,
   "id": "0c9645c6",
   "metadata": {},
   "outputs": [],
   "source": [
    "# predict using random forest model\n",
    "test_pred = rfrModel.predict(testRF)"
   ]
  },
  {
   "cell_type": "markdown",
   "id": "4a650bd1",
   "metadata": {},
   "source": [
    "### Output File"
   ]
  },
  {
   "cell_type": "code",
   "execution_count": null,
   "id": "1e4a1f8c",
   "metadata": {
    "scrolled": false
   },
   "outputs": [],
   "source": [
    "# populate price_doc column with predicted prices\n",
    "testRF['price_doc'] = np.expm1(test_pred)\n",
    "testRF.head(10)"
   ]
  },
  {
   "cell_type": "code",
   "execution_count": null,
   "id": "6575c80b",
   "metadata": {},
   "outputs": [],
   "source": [
    "# check output dir\n",
    "if not os.path.exists(\"./output_models\"):\n",
    "    os.mkdir(\"./output_models\")\n",
    "\n",
    "# write id and predicted price_doc columns to csv\n",
    "testRF['id'] = test_id\n",
    "testRF[['id', 'price_doc']].to_csv('./output_models/output_random_forest.csv', index = False)"
   ]
  },
  {
   "cell_type": "markdown",
   "id": "fc48835e",
   "metadata": {},
   "source": [
    "## 2. Decision Tree"
   ]
  },
  {
   "cell_type": "code",
   "execution_count": null,
   "id": "810b03d6",
   "metadata": {},
   "outputs": [],
   "source": [
    "dtModel = DecisionTreeRegressor()\n",
    "\n",
    "# Define 'max_depth' params to use for tuning GridSearchCV\n",
    "paramDepth ={'max_depth' : [5, 10, 11, 12, 13, 14, 15, 20, 25, 30, 35, 40, 45, 50]}\n",
    "\n",
    "gridSearchModel = GridSearchCV(dtModel, param_grid = paramDepth, verbose = 10, cv = 3, n_jobs = -1)\n",
    "gridSearchModel.fit(x_tr, y_tr)"
   ]
  },
  {
   "cell_type": "code",
   "execution_count": null,
   "id": "c94c901f",
   "metadata": {},
   "outputs": [],
   "source": [
    "print(\"Best Parameter values: \")\n",
    "print(gridSearchModel.best_params_)\n",
    "print(\"\\r\\nBest Score: \")\n",
    "print(gridSearchModel.best_score_)"
   ]
  },
  {
   "cell_type": "code",
   "execution_count": null,
   "id": "6d0c30d5",
   "metadata": {},
   "outputs": [],
   "source": [
    "# Tune the Model with the best hyperparameters\n",
    "dtModel = DecisionTreeRegressor(\n",
    "    max_depth = gridSearchModel.best_params_['max_depth'],\n",
    "    random_state = 42\n",
    ")\n",
    "dtModel.fit(x_tr, y_tr)"
   ]
  },
  {
   "cell_type": "code",
   "execution_count": null,
   "id": "adc11973",
   "metadata": {},
   "outputs": [],
   "source": [
    "# predict on train data\n",
    "yPred = dtModel.predict(x_tr)\n",
    "trainMse = mean_squared_error(y_tr, yPred)\n",
    "print(\"Predict Train\")\n",
    "print(\"MSE : %.4f\" % trainMse)\n",
    "print(\"RMSE: %.4f\" % sqrt(trainMse))"
   ]
  },
  {
   "cell_type": "code",
   "execution_count": null,
   "id": "88808795",
   "metadata": {},
   "outputs": [],
   "source": [
    "# predict on cross validation data\n",
    "yPred = dtModel.predict(x_cv)\n",
    "testMse = mean_squared_error(y_cv, yPred)\n",
    "print(\"Predict Cross Validation\")\n",
    "print(\"MSE : %.4f\" % testMse)\n",
    "print(\"RMSE: %.4f\" % sqrt(testMse))"
   ]
  },
  {
   "cell_type": "code",
   "execution_count": null,
   "id": "ffa9a302",
   "metadata": {},
   "outputs": [],
   "source": [
    "# add to result array\n",
    "resArr.append([\"Decision Tree\", str(\"%.4f\" % trainMse), str(\"%.4f\" % testMse), str(\"%.4f\" % sqrt(trainMse)), str(\"%.4f\" % sqrt(testMse))])"
   ]
  },
  {
   "cell_type": "markdown",
   "id": "dff9952c",
   "metadata": {},
   "source": [
    "### Predict on test.csv test data"
   ]
  },
  {
   "cell_type": "code",
   "execution_count": null,
   "id": "282e20d1",
   "metadata": {},
   "outputs": [],
   "source": [
    "# do the same prep: process.. run pred\n",
    "testDT = xTest.copy()\n",
    "testId = testDT[\"id\"]\n",
    "testDT.drop([\"id\", \"timestamp\"], axis = 1, inplace = True)\n",
    "\n",
    "# process datatype\n",
    "categoricals = xTrain.select_dtypes(include = [\"object\"]).copy()\n",
    "numericals = xTrain.select_dtypes(exclude = [\"object\"])\n",
    "\n",
    "for c in categoricals:\n",
    "    le = preprocessing.LabelEncoder()\n",
    "    le.fit(xTrain[c])\n",
    "\n",
    "    testDT[c] = testDT[c].map(lambda s: \"<unknown>\" if s not in le.classes_ else s)\n",
    "    le.classes_ = np.append(le.classes_, \"<unknown>\")\n",
    "\n",
    "    testDT[c] = le.transform(testDT[c])\n",
    "\n",
    "for n in numericals:\n",
    "    min = xTrain[n].min()\n",
    "    max = xTrain[n].max()\n",
    "\n",
    "    testDT[n] = (testDT[n] - min) / (max - min)\n",
    "\n",
    "# predict using decision tree model\n",
    "testPred = dtModel.predict(testDT)"
   ]
  },
  {
   "cell_type": "markdown",
   "id": "19ebe81d",
   "metadata": {},
   "source": [
    "**Output prediction to csv**"
   ]
  },
  {
   "cell_type": "code",
   "execution_count": null,
   "id": "b942914d",
   "metadata": {},
   "outputs": [],
   "source": [
    "# populate price_doc column with predicted prices\n",
    "testDT[\"price_doc\"] = np.expm1(testPred)\n",
    "testDT[\"id\"] = testId"
   ]
  },
  {
   "cell_type": "code",
   "execution_count": null,
   "id": "e2d9f462",
   "metadata": {},
   "outputs": [],
   "source": [
    "# check output dir\n",
    "if not os.path.exists(\"./output_models\"):\n",
    "    os.mkdir(\"./output_models\")\n",
    "\n",
    "# write id and predicted price_doc columns to csv\n",
    "testDT[[\"id\", \"price_doc\"]].to_csv(\"./output_models/output_decisiontree.csv\", index = False)"
   ]
  },
  {
   "cell_type": "markdown",
   "id": "f4a112bc",
   "metadata": {},
   "source": [
    "## 3. XGBoost (eXtreme Gradient Boost)"
   ]
  },
  {
   "cell_type": "markdown",
   "id": "963da1ef",
   "metadata": {},
   "source": [
    "**Tune Hyperparameters**"
   ]
  },
  {
   "cell_type": "code",
   "execution_count": null,
   "id": "e264b849",
   "metadata": {
    "scrolled": false
   },
   "outputs": [],
   "source": [
    "xgbModel = XGBRegressor(nthread = -1)\n",
    "\n",
    "# define parameter distributions to use for tuning\n",
    "paramDist = {\n",
    "    \"colsample_bytree\": [0.1, 0.25, 0.3, 0.5, 0.75, 0.8, 1],\n",
    "    \"learning_rate\": [0.01, 0.03, 0.05, 0.07, 0.1, 0.13, 0.15],\n",
    "    \"max_depth\": [10, 11, 12, 13, 14, 15],\n",
    "    \"n_estimators\": [50, 100, 150, 200],\n",
    "    \"subsample\": [0.1, 0.3, 0.5, 0.7, 1]\n",
    "}\n",
    "\n",
    "# use RandomizedSearchCV to determine best values for hyperparameters\n",
    "randomSearchModel = RandomizedSearchCV(xgbModel, param_distributions = paramDist, verbose = 10, n_jobs = -1, cv = 2, n_iter = 15)\n",
    "randomSearchModel.fit(x_tr, y_tr)"
   ]
  },
  {
   "cell_type": "code",
   "execution_count": null,
   "id": "b3fa744b",
   "metadata": {
    "scrolled": false
   },
   "outputs": [],
   "source": [
    "print(\"Best Hyperparamter values: \")\n",
    "print(randomSearchModel.best_params_)\n",
    "print(\"\\r\\nBest Score: \")\n",
    "print(randomSearchModel.best_score_)"
   ]
  },
  {
   "cell_type": "markdown",
   "id": "0b559a68",
   "metadata": {},
   "source": [
    "**Use best Hyperparameters in model**"
   ]
  },
  {
   "cell_type": "code",
   "execution_count": null,
   "id": "455c56e7",
   "metadata": {
    "scrolled": false
   },
   "outputs": [],
   "source": [
    "# tune Model\n",
    "xgbModel = XGBRegressor(\n",
    "    colsample_bytree = randomSearchModel.best_params_[\"colsample_bytree\"],\n",
    "    learning_rate = randomSearchModel.best_params_[\"learning_rate\"],\n",
    "    max_depth = randomSearchModel.best_params_[\"max_depth\"],\n",
    "    n_estimators = randomSearchModel.best_params_[\"n_estimators\"],\n",
    "    subsample = randomSearchModel.best_params_[\"subsample\"]\n",
    ")\n",
    "# fit model\n",
    "xgbModel.fit(x_tr, y_tr)\n"
   ]
  },
  {
   "cell_type": "code",
   "execution_count": null,
   "id": "746e7f4c",
   "metadata": {
    "scrolled": false
   },
   "outputs": [],
   "source": [
    "# predict on train data\n",
    "yPred = xgbModel.predict(x_tr)\n",
    "trainMse = mean_squared_error(y_tr, yPred)\n",
    "print(\"Predict Train\")\n",
    "print(\"MSE : %.4f\" % trainMse)\n",
    "print(\"RMSE: %.4f\" % sqrt(trainMse))"
   ]
  },
  {
   "cell_type": "code",
   "execution_count": null,
   "id": "3e55e9e5",
   "metadata": {
    "scrolled": false
   },
   "outputs": [],
   "source": [
    "# predict on cross validation data\n",
    "yPred = xgbModel.predict(x_cv)\n",
    "testMse = mean_squared_error(y_cv, yPred)\n",
    "print(\"Predict Cross Validation\")\n",
    "print(\"MSE : %.4f\" % testMse)\n",
    "print(\"RMSE: %.4f\" % sqrt(testMse))"
   ]
  },
  {
   "cell_type": "code",
   "execution_count": null,
   "id": "7a467ce0",
   "metadata": {},
   "outputs": [],
   "source": [
    "# add to result array\n",
    "resArr.append([\"XGBoost\", str(\"%.4f\" % trainMse), str(\"%.4f\" % testMse), str(\"%.4f\" % sqrt(trainMse)), str(\"%.4f\" % sqrt(testMse))])"
   ]
  },
  {
   "cell_type": "markdown",
   "id": "72a7f48b",
   "metadata": {},
   "source": [
    "### Predict on test.csv test data"
   ]
  },
  {
   "cell_type": "code",
   "execution_count": null,
   "id": "5f3009d1",
   "metadata": {},
   "outputs": [],
   "source": [
    "# do the same prep: process.. run pred\n",
    "testXGB = xTest.copy()\n",
    "testId = testXGB[\"id\"]\n",
    "testXGB.drop([\"id\", \"timestamp\"], axis = 1, inplace = True)\n",
    "\n",
    "# process datatype\n",
    "categoricals = xTrain.select_dtypes(include = [\"object\"]).copy()\n",
    "numericals = xTrain.select_dtypes(exclude = [\"object\"])\n",
    "\n",
    "for c in categoricals:\n",
    "    le = preprocessing.LabelEncoder()\n",
    "    le.fit(xTrain[c])\n",
    "\n",
    "    testXGB[c] = testXGB[c].map(lambda s: \"<unknown>\" if s not in le.classes_ else s)\n",
    "    le.classes_ = np.append(le.classes_, \"<unknown>\")\n",
    "\n",
    "    testXGB[c] = le.transform(testXGB[c])\n",
    "\n",
    "for n in numericals:\n",
    "    min = xTrain[n].min()\n",
    "    max = xTrain[n].max()\n",
    "\n",
    "    testXGB[n] = (testXGB[n] - min) / (max - min)\n",
    "\n",
    "# predict using xgb model\n",
    "testPred = xgbModel.predict(testXGB)"
   ]
  },
  {
   "cell_type": "markdown",
   "id": "1bec8016",
   "metadata": {},
   "source": [
    "**Output prediction to csv**"
   ]
  },
  {
   "cell_type": "code",
   "execution_count": null,
   "id": "af7756b3",
   "metadata": {},
   "outputs": [],
   "source": [
    "# populate price_doc column with predicted prices\n",
    "testXGB[\"price_doc\"] = np.expm1(testPred)\n",
    "testXGB[\"id\"] = testId"
   ]
  },
  {
   "cell_type": "code",
   "execution_count": null,
   "id": "e955687c",
   "metadata": {},
   "outputs": [],
   "source": [
    "# check output dir\n",
    "if not os.path.exists(\"./output_models\"):\n",
    "    os.mkdir(\"./output_models\")\n",
    "\n",
    "# write id and predicted price_doc columns to csv\n",
    "testXGB[[\"id\", \"price_doc\"]].to_csv(\"./output_models/output_xgboost.csv\", index = False)"
   ]
  },
  {
   "cell_type": "markdown",
   "id": "eb81d523",
   "metadata": {},
   "source": [
    "## 4. SGD (Stochastic Gradient Descent) Regressor"
   ]
  },
  {
   "cell_type": "markdown",
   "id": "5c50484a",
   "metadata": {},
   "source": [
    "**Tune Hyperparameters**"
   ]
  },
  {
   "cell_type": "code",
   "execution_count": null,
   "id": "6a80d974",
   "metadata": {
    "scrolled": false
   },
   "outputs": [],
   "source": [
    "sgdModel = SGDRegressor()\n",
    "\n",
    "# define parameter distributions to use for tuning\n",
    "paramDist = {\n",
    "    \"alpha\": [1e-4, 1e-3, 1e-2, 1e-1, 1e0, 1e1, 1e2, 1e3, 1e4],\n",
    "    \"learning_rate\": ['optimal'],\n",
    "    \"loss\": [\"squared_loss\"],\n",
    "    \"max_iter\": [500, 1000, 1500, 2000],\n",
    "    \"penalty\": [\"l2\"]\n",
    "}\n",
    "\n",
    "# use RandomizedSearchCV to determine best values for hyperparameters\n",
    "randomSearchModel = RandomizedSearchCV(sgdModel, param_distributions = paramDist, verbose = 10, n_jobs = -1, cv=3, n_iter = 15)\n",
    "randomSearchModel.fit(x_tr, y_tr)"
   ]
  },
  {
   "cell_type": "code",
   "execution_count": null,
   "id": "001b4687",
   "metadata": {
    "scrolled": false
   },
   "outputs": [],
   "source": [
    "print(\"Best Hyperparamter values: \")\n",
    "print(randomSearchModel.best_params_)\n",
    "print(\"\\r\\nBest Score: \")\n",
    "print(randomSearchModel.best_score_)"
   ]
  },
  {
   "cell_type": "markdown",
   "id": "e30a9e07",
   "metadata": {},
   "source": [
    "**Use best Hyperparameters in model**"
   ]
  },
  {
   "cell_type": "code",
   "execution_count": null,
   "id": "ffb24da2",
   "metadata": {
    "scrolled": false
   },
   "outputs": [],
   "source": [
    "# tune Model\n",
    "sgdModel = SGDRegressor(\n",
    "    alpha = randomSearchModel.best_params_[\"alpha\"],\n",
    "    learning_rate = \"optimal\",\n",
    "    loss = \"squared_loss\",\n",
    "    max_iter = randomSearchModel.best_params_[\"max_iter\"],\n",
    "    penalty = \"l2\",\n",
    ")\n",
    "# fit model\n",
    "sgdModel.fit(x_tr, y_tr)\n"
   ]
  },
  {
   "cell_type": "code",
   "execution_count": null,
   "id": "f5be2d46",
   "metadata": {
    "scrolled": false
   },
   "outputs": [],
   "source": [
    "# predict on train data\n",
    "yPred = sgdModel.predict(x_tr)\n",
    "trainMse = mean_squared_error(y_tr, yPred)\n",
    "print(\"Predict Train\")\n",
    "print(\"MSE : %.4f\" % trainMse)\n",
    "print(\"RMSE: %.4f\" % sqrt(trainMse))"
   ]
  },
  {
   "cell_type": "code",
   "execution_count": null,
   "id": "047c6d18",
   "metadata": {
    "scrolled": false
   },
   "outputs": [],
   "source": [
    "# predict on cross validation data\n",
    "yPred = sgdModel.predict(x_cv)\n",
    "testMse = mean_squared_error(y_cv, yPred)\n",
    "print(\"Predict Cross Validation\")\n",
    "print(\"MSE : %.4f\" % testMse)\n",
    "print(\"RMSE: %.4f\" % sqrt(testMse))"
   ]
  },
  {
   "cell_type": "code",
   "execution_count": null,
   "id": "3eae23e3",
   "metadata": {},
   "outputs": [],
   "source": [
    "# add to result array\n",
    "resArr.append([\"SGD\", str(\"%.4f\" % trainMse), str(\"%.4f\" % testMse), str(\"%.4f\" % sqrt(trainMse)), str(\"%.4f\" % sqrt(testMse))])"
   ]
  },
  {
   "cell_type": "markdown",
   "id": "2c39818f",
   "metadata": {},
   "source": [
    "### Predict on test.csv test data"
   ]
  },
  {
   "cell_type": "code",
   "execution_count": null,
   "id": "9b53f3ef",
   "metadata": {},
   "outputs": [],
   "source": [
    "# do the same prep: process.. run pred\n",
    "testSGD = xTest.copy()\n",
    "testId = testSGD[\"id\"]\n",
    "testSGD.drop([\"id\", \"timestamp\"], axis = 1, inplace = True)\n",
    "\n",
    "# process datatype\n",
    "categoricals = xTrain.select_dtypes(include = [\"object\"]).copy()\n",
    "numericals = xTrain.select_dtypes(exclude = [\"object\"])\n",
    "\n",
    "for c in categoricals:\n",
    "    le = preprocessing.LabelEncoder()\n",
    "    le.fit(xTrain[c])\n",
    "\n",
    "    testSGD[c] = testSGD[c].map(lambda s: \"<unknown>\" if s not in le.classes_ else s)\n",
    "    le.classes_ = np.append(le.classes_, \"<unknown>\")\n",
    "\n",
    "    testSGD[c] = le.transform(testSGD[c])\n",
    "\n",
    "for n in numericals:\n",
    "    min = xTrain[n].min()\n",
    "    max = xTrain[n].max()\n",
    "\n",
    "    testSGD[n] = (testSGD[n] - min) / (max - min)\n",
    "\n",
    "# predict using sgd model\n",
    "testPred = sgdModel.predict(testSGD)"
   ]
  },
  {
   "cell_type": "markdown",
   "id": "167ec9d4",
   "metadata": {},
   "source": [
    "**Output prediction to csv**"
   ]
  },
  {
   "cell_type": "code",
   "execution_count": null,
   "id": "c90208cf",
   "metadata": {},
   "outputs": [],
   "source": [
    "# populate price_doc column with predicted prices\n",
    "testSGD[\"price_doc\"] = np.expm1(testPred)\n",
    "testSGD[\"id\"] = testId"
   ]
  },
  {
   "cell_type": "code",
   "execution_count": null,
   "id": "f1914e60",
   "metadata": {},
   "outputs": [],
   "source": [
    "# check output dir\n",
    "if not os.path.exists(\"./output_models\"):\n",
    "    os.mkdir(\"./output_models\")\n",
    "\n",
    "# write id and predicted price_doc columns to csv\n",
    "testSGD[[\"id\", \"price_doc\"]].to_csv(\"./output_models/output_sgd.csv\", index = False)"
   ]
  },
  {
   "cell_type": "markdown",
   "id": "d7ced932",
   "metadata": {},
   "source": [
    "## 5. AdaBoost (Adaptive Boosting)"
   ]
  },
  {
   "cell_type": "markdown",
   "id": "b12c3134",
   "metadata": {},
   "source": [
    "**Tune 'n_estimators' parameter**"
   ]
  },
  {
   "cell_type": "code",
   "execution_count": null,
   "id": "935d5f6a",
   "metadata": {},
   "outputs": [],
   "source": [
    "adbModel = AdaBoostRegressor()\n",
    "\n",
    "# define 'n_estimators' distributions to use for tuning\n",
    "paramDist = { \"n_estimators\": [50, 100, 150, 200, 250, 300] }\n",
    "\n",
    "# use RandomizedSearchCV to determine best value for 'n_estimators'\n",
    "randomSearchModel = RandomizedSearchCV(adbModel, param_distributions = paramDist, verbose = 10, n_jobs = -1, cv = 3)\n",
    "randomSearchModel.fit(x_tr, y_tr)"
   ]
  },
  {
   "cell_type": "code",
   "execution_count": null,
   "id": "0069f873",
   "metadata": {},
   "outputs": [],
   "source": [
    "print(\"Best 'n_estimators' value: \")\n",
    "print(randomSearchModel.best_params_[\"n_estimators\"])\n",
    "print(\"\\r\\nBest Score: \")\n",
    "print(randomSearchModel.best_score_)"
   ]
  },
  {
   "cell_type": "markdown",
   "id": "39933e30",
   "metadata": {},
   "source": [
    "**Use best 'n_estimators' value in model**"
   ]
  },
  {
   "cell_type": "code",
   "execution_count": null,
   "id": "dd36d905",
   "metadata": {},
   "outputs": [],
   "source": [
    "# tune Model\n",
    "adbModel = AdaBoostRegressor(n_estimators = randomSearchModel.best_params_[\"n_estimators\"])\n",
    "# fit model\n",
    "adbModel.fit(x_tr, y_tr)"
   ]
  },
  {
   "cell_type": "code",
   "execution_count": null,
   "id": "49cc2d02",
   "metadata": {},
   "outputs": [],
   "source": [
    "# predict on train data\n",
    "yPred = adbModel.predict(x_tr)\n",
    "trainMse = mean_squared_error(y_tr, yPred)\n",
    "print(\"Predict Train\")\n",
    "print(\"MSE : %.4f\" % trainMse)\n",
    "print(\"RMSE: %.4f\" % sqrt(trainMse))"
   ]
  },
  {
   "cell_type": "code",
   "execution_count": null,
   "id": "038f4f63",
   "metadata": {},
   "outputs": [],
   "source": [
    "# predict on cross validation data\n",
    "yPred = adbModel.predict(x_cv)\n",
    "testMse = mean_squared_error(y_cv, yPred)\n",
    "print(\"Predict Cross Validation\")\n",
    "print(\"MSE : %.4f\" % testMse)\n",
    "print(\"RMSE: %.4f\" % sqrt(testMse))"
   ]
  },
  {
   "cell_type": "code",
   "execution_count": null,
   "id": "e4971499",
   "metadata": {},
   "outputs": [],
   "source": [
    "# add to result array\n",
    "resArr.append([\"AdaBoost\", str(\"%.4f\" % trainMse), str(\"%.4f\" % testMse), str(\"%.4f\" % sqrt(trainMse)), str(\"%.4f\" % sqrt(testMse))])"
   ]
  },
  {
   "cell_type": "markdown",
   "id": "0caa4aed",
   "metadata": {},
   "source": [
    "### Predict on test.csv test data"
   ]
  },
  {
   "cell_type": "code",
   "execution_count": null,
   "id": "1977b2ad",
   "metadata": {},
   "outputs": [],
   "source": [
    "# do the same prep: process.. run pred\n",
    "testAdB = xTest.copy()\n",
    "testId = testAdB[\"id\"]\n",
    "testAdB.drop([\"id\", \"timestamp\"], axis = 1, inplace = True)\n",
    "\n",
    "# process datatype\n",
    "categoricals = xTrain.select_dtypes(include = [\"object\"]).copy()\n",
    "numericals = xTrain.select_dtypes(exclude = [\"object\"])\n",
    "\n",
    "for c in categoricals:\n",
    "    le = preprocessing.LabelEncoder()\n",
    "    le.fit(xTrain[c])\n",
    "\n",
    "    testAdB[c] = testAdB[c].map(lambda s: \"<unknown>\" if s not in le.classes_ else s)\n",
    "    le.classes_ = np.append(le.classes_, \"<unknown>\")\n",
    "\n",
    "    testAdB[c] = le.transform(testAdB[c])\n",
    "\n",
    "for n in numericals:\n",
    "    min = xTrain[n].min()\n",
    "    max = xTrain[n].max()\n",
    "\n",
    "    testAdB[n] = (testAdB[n] - min) / (max - min)\n",
    "\n",
    "# predict using adb model\n",
    "testPred = adbModel.predict(testAdB)"
   ]
  },
  {
   "cell_type": "markdown",
   "id": "43be7289",
   "metadata": {},
   "source": [
    "**Output prediction to csv**"
   ]
  },
  {
   "cell_type": "code",
   "execution_count": null,
   "id": "9bc339b8",
   "metadata": {},
   "outputs": [],
   "source": [
    "# populate price_doc column with predicted prices\n",
    "testAdB[\"price_doc\"] = np.expm1(testPred)\n",
    "testAdB[\"id\"] = testId"
   ]
  },
  {
   "cell_type": "code",
   "execution_count": null,
   "id": "623e4d96",
   "metadata": {},
   "outputs": [],
   "source": [
    "# check output dir\n",
    "if not os.path.exists(\"./output_models\"):\n",
    "    os.mkdir(\"./output_models\")\n",
    "\n",
    "# write id and predicted price_doc columns to csv\n",
    "testAdB[[\"id\", \"price_doc\"]].to_csv(\"./output_models/output_adaboost.csv\", index = False)"
   ]
  },
  {
   "cell_type": "markdown",
   "id": "9111c12e",
   "metadata": {},
   "source": [
    "## test naive xgb"
   ]
  },
  {
   "cell_type": "code",
   "execution_count": 45,
   "id": "5a404816",
   "metadata": {},
   "outputs": [],
   "source": [
    "import xgboost as xgb\n",
    "\n",
    "xgb_params = {\n",
    "    'eta': 0.05,\n",
    "    'max_depth': 5,\n",
    "    'subsample': 0.7,\n",
    "    'colsample_bytree': 0.7,\n",
    "    'objective': 'reg:linear',\n",
    "    'eval_metric': 'rmse',\n",
    "    'silent': 1\n",
    "}\n",
    "\n",
    "\n",
    "xtrainnxgb = xTrain.copy()\n",
    "ytrainnxgb = yTrain.copy()\n",
    "testnxgb = xTest.copy()\n",
    "testId = testnxgb[\"id\"]\n",
    "testnxgb.drop([\"id\", \"timestamp\"], axis = 1, inplace = True)\n",
    "\n",
    "\n",
    "\n",
    "for c in xtrainnxgb.columns:\n",
    "    if xtrainnxgb[c].dtype == 'object':\n",
    "        lbl = preprocessing.LabelEncoder()\n",
    "        lbl.fit(list(xtrainnxgb[c].values)) \n",
    "        xtrainnxgb[c] = lbl.transform(list(xtrainnxgb[c].values))\n",
    "        #x_train.drop(c,axis=1,inplace=True)\n",
    "        \n",
    "for c in testnxgb.columns:\n",
    "    if testnxgb[c].dtype == 'object':\n",
    "        lbl = preprocessing.LabelEncoder()\n",
    "        lbl.fit(list(testnxgb[c].values)) \n",
    "        testnxgb[c] = lbl.transform(list(testnxgb[c].values))\n",
    "        #x_test.drop(c,axis=1,inplace=True)        \n",
    "\n",
    "\n",
    "# # process datatype\n",
    "# categoricals = xTrain.select_dtypes(include = [\"object\"]).copy()\n",
    "# numericals = xTrain.select_dtypes(exclude = [\"object\"])\n",
    "\n",
    "# for c in categoricals:\n",
    "#     le = preprocessing.LabelEncoder()\n",
    "#     le.fit(xTrain[c])\n",
    "\n",
    "#     testnxgb[c] = testnxgb[c].map(lambda s: \"<unknown>\" if s not in le.classes_ else s)\n",
    "#     le.classes_ = np.append(le.classes_, \"<unknown>\")\n",
    "\n",
    "#     testnxgb[c] = le.transform(testnxgb[c])\n",
    "\n",
    "# for n in numericals:\n",
    "#     min = xTrain[n].min()\n",
    "#     max = xTrain[n].max()\n",
    "\n",
    "#     testnxgb[n] = (testnxgb[n] - min) / (max - min)\n",
    "\n",
    "\n",
    "\n",
    "\n",
    "\n",
    "dtrain = xgb.DMatrix(xtrainnxgb, ytrainnxgb)\n",
    "dtest = xgb.DMatrix(testnxgb)\n",
    "\n"
   ]
  },
  {
   "cell_type": "code",
   "execution_count": 46,
   "id": "d04540ad",
   "metadata": {},
   "outputs": [
    {
     "name": "stdout",
     "output_type": "stream",
     "text": [
      "[22:21:43] WARNING: c:\\ci\\xgboost-split_1638290375667\\work\\src\\objective\\regression_obj.cu:188: reg:linear is now deprecated in favor of reg:squarederror.\n",
      "[22:21:43] WARNING: ..\\src\\learner.cc:576: \n",
      "Parameters: { \"silent\" } might not be used.\n",
      "\n",
      "  This could be a false alarm, with some parameters getting used by language bindings but\n",
      "  then being mistakenly passed down to XGBoost core, or some parameter actually being used\n",
      "  but getting flagged wrongly here. Please open an issue if you find any such cases.\n",
      "\n",
      "\n",
      "[22:21:43] WARNING: c:\\ci\\xgboost-split_1638290375667\\work\\src\\objective\\regression_obj.cu:188: reg:linear is now deprecated in favor of reg:squarederror.\n",
      "[22:21:43] WARNING: ..\\src\\learner.cc:576: \n",
      "Parameters: { \"silent\" } might not be used.\n",
      "\n",
      "  This could be a false alarm, with some parameters getting used by language bindings but\n",
      "  then being mistakenly passed down to XGBoost core, or some parameter actually being used\n",
      "  but getting flagged wrongly here. Please open an issue if you find any such cases.\n",
      "\n",
      "\n",
      "[22:21:43] WARNING: c:\\ci\\xgboost-split_1638290375667\\work\\src\\objective\\regression_obj.cu:188: reg:linear is now deprecated in favor of reg:squarederror.\n",
      "[22:21:43] WARNING: ..\\src\\learner.cc:576: \n",
      "Parameters: { \"silent\" } might not be used.\n",
      "\n",
      "  This could be a false alarm, with some parameters getting used by language bindings but\n",
      "  then being mistakenly passed down to XGBoost core, or some parameter actually being used\n",
      "  but getting flagged wrongly here. Please open an issue if you find any such cases.\n",
      "\n",
      "\n",
      "[0]\ttrain-rmse:14.36677\ttest-rmse:14.36682\n",
      "[50]\ttrain-rmse:1.20142\ttest-rmse:1.20715\n",
      "[100]\ttrain-rmse:0.44376\ttest-rmse:0.47514\n",
      "[150]\ttrain-rmse:0.41719\ttest-rmse:0.46367\n",
      "[200]\ttrain-rmse:0.40339\ttest-rmse:0.46272\n",
      "[250]\ttrain-rmse:0.39101\ttest-rmse:0.46247\n",
      "[279]\ttrain-rmse:0.38497\ttest-rmse:0.46258\n"
     ]
    },
    {
     "data": {
      "text/plain": [
       "<AxesSubplot:>"
      ]
     },
     "execution_count": 46,
     "metadata": {},
     "output_type": "execute_result"
    },
    {
     "data": {
      "image/png": "[encoded data removed]",
      "text/plain": [
       "<Figure size 432x288 with 1 Axes>"
      ]
     },
     "metadata": {
      "needs_background": "light"
     },
     "output_type": "display_data"
    }
   ],
   "source": [
    "cv_output = xgb.cv(xgb_params, dtrain, num_boost_round=1000, early_stopping_rounds=20,\n",
    "    verbose_eval=50, show_stdv=False)\n",
    "cv_output[['train-rmse-mean', 'test-rmse-mean']].plot()"
   ]
  },
  {
   "cell_type": "code",
   "execution_count": 40,
   "id": "86a650ac",
   "metadata": {},
   "outputs": [
    {
     "name": "stdout",
     "output_type": "stream",
     "text": [
      "[22:17:42] WARNING: c:\\ci\\xgboost-split_1638290375667\\work\\src\\objective\\regression_obj.cu:188: reg:linear is now deprecated in favor of reg:squarederror.\n",
      "[22:17:42] WARNING: ..\\src\\learner.cc:576: \n",
      "Parameters: { \"silent\" } might not be used.\n",
      "\n",
      "  This could be a false alarm, with some parameters getting used by language bindings but\n",
      "  then being mistakenly passed down to XGBoost core, or some parameter actually being used\n",
      "  but getting flagged wrongly here. Please open an issue if you find any such cases.\n",
      "\n",
      "\n"
     ]
    }
   ],
   "source": [
    "num_boost_rounds = len(cv_output)\n",
    "model = xgb.train(dict(xgb_params, silent=0), dtrain, num_boost_round= num_boost_rounds)"
   ]
  },
  {
   "cell_type": "code",
   "execution_count": 41,
   "id": "f3ff2ed4",
   "metadata": {},
   "outputs": [],
   "source": [
    "\n",
    "\n",
    "y_predict = model.predict(dtest)\n",
    "output = pd.DataFrame({'id': testId, 'price_doc': y_predict})\n",
    "output.to_csv(\"./output_models/naivexgb.csv\", index = False)"
   ]
  },
  {
   "cell_type": "code",
   "execution_count": 42,
   "id": "0899b43c",
   "metadata": {},
   "outputs": [
    {
     "data": {
      "text/html": [
       "<div>\n",
       "<style scoped>\n",
       "    .dataframe tbody tr th:only-of-type {\n",
       "        vertical-align: middle;\n",
       "    }\n",
       "\n",
       "    .dataframe tbody tr th {\n",
       "        vertical-align: top;\n",
       "    }\n",
       "\n",
       "    .dataframe thead th {\n",
       "        text-align: right;\n",
       "    }\n",
       "</style>\n",
       "<table border=\"1\" class=\"dataframe\">\n",
       "  <thead>\n",
       "    <tr style=\"text-align: right;\">\n",
       "      <th></th>\n",
       "      <th>id</th>\n",
       "      <th>price_doc</th>\n",
       "    </tr>\n",
       "  </thead>\n",
       "  <tbody>\n",
       "    <tr>\n",
       "      <th>30471</th>\n",
       "      <td>30474</td>\n",
       "      <td>14.2702</td>\n",
       "    </tr>\n",
       "    <tr>\n",
       "      <th>30472</th>\n",
       "      <td>30475</td>\n",
       "      <td>13.6573</td>\n",
       "    </tr>\n",
       "    <tr>\n",
       "      <th>30473</th>\n",
       "      <td>30476</td>\n",
       "      <td>13.0310</td>\n",
       "    </tr>\n",
       "    <tr>\n",
       "      <th>30474</th>\n",
       "      <td>30477</td>\n",
       "      <td>14.1544</td>\n",
       "    </tr>\n",
       "    <tr>\n",
       "      <th>30475</th>\n",
       "      <td>30478</td>\n",
       "      <td>13.5778</td>\n",
       "    </tr>\n",
       "  </tbody>\n",
       "</table>\n",
       "</div>"
      ],
      "text/plain": [
       "          id  price_doc\n",
       "30471  30474    14.2702\n",
       "30472  30475    13.6573\n",
       "30473  30476    13.0310\n",
       "30474  30477    14.1544\n",
       "30475  30478    13.5778"
      ]
     },
     "execution_count": 42,
     "metadata": {},
     "output_type": "execute_result"
    }
   ],
   "source": [
    "output.head()"
   ]
  },
  {
   "cell_type": "markdown",
   "id": "be7d41eb",
   "metadata": {},
   "source": [
    "**Display Result Table**"
   ]
  },
  {
   "cell_type": "code",
   "execution_count": null,
   "id": "fd24fd94",
   "metadata": {},
   "outputs": [],
   "source": [
    "resdf = pd.DataFrame(resArr, columns = [\"Model\", \"Train MSE\", \"Test MSE\", \"Train RMSE\", \"Test RMSE\"])\n",
    "display(HTML(resdf.to_html(index=False)))"
   ]
  },
  {
   "cell_type": "markdown",
   "id": "e9e25a78",
   "metadata": {},
   "source": [
    "**SGD Regressor has an appalling performance with extremely high MSE / RMSE scores**"
   ]
  },
  {
   "cell_type": "markdown",
   "id": "15a46de3",
   "metadata": {},
   "source": [
    "## Trying a different approach:"
   ]
  },
  {
   "cell_type": "markdown",
   "id": "5c2d1177",
   "metadata": {},
   "source": [
    "## Step 1: Split train data into 80-20 split"
   ]
  },
  {
   "cell_type": "code",
   "execution_count": null,
   "id": "b6b8f9c7",
   "metadata": {},
   "outputs": [],
   "source": [
    "# split into training and cross-validation\n",
    "x_tr, x_cv, y_tr, y_cv = train_test_split(xTrain, yTrain, test_size=0.15,random_state=42)"
   ]
  },
  {
   "cell_type": "code",
   "execution_count": null,
   "id": "d471f0e5",
   "metadata": {},
   "outputs": [],
   "source": [
    "# Effect code categorical variables:\n",
    "\n",
    "num = xTrain.select_dtypes(exclude=['object'])\n",
    "cat = xTrain.select_dtypes(include=['object']).copy()\n",
    "\n",
    "\n",
    "for c in cat:\n",
    "  labelEnc = preprocessing.LabelEncoder()\n",
    "  labelEnc.fit(x_tr[c])\n",
    "\n",
    "  x_cv[c] = x_cv[c].map(lambda s: '<unknown>' if s not in labelEnc.classes_ else s)\n",
    "  labelEnc.classes_ = np.append(labelEnc.classes_, '<unknown>')\n",
    "\n",
    "  x_tr[c] = labelEnc.transform(x_tr[c])\n",
    "  x_cv[c] = labelEnc.transform(x_cv[c])\n",
    "\n",
    "for c in num:\n",
    "  min = x_tr[c].min()\n",
    "  max = x_tr[c].max()\n",
    "\n",
    "  x_tr[c] = (x_tr[c] - min)/(max-min)\n",
    "  x_cv[c] = (x_cv[c] - min)/(max-min)"
   ]
  },
  {
   "cell_type": "markdown",
   "id": "d97c7fb1",
   "metadata": {},
   "source": [
    "## Step 2: In train set, split the train set into A1 and A2 50-50 split\n",
    "## Then we use A1 to do sampling with replacement to create a1,a2....ak(k samples).\n",
    "## Now we create 'k' models, and train each of our models with these k samples."
   ]
  },
  {
   "cell_type": "code",
   "execution_count": null,
   "id": "14d75c71",
   "metadata": {},
   "outputs": [],
   "source": [
    "A1, A2, y_a1, y_a2 = train_test_split(x_tr, y_tr, test_size=0.50)"
   ]
  },
  {
   "cell_type": "code",
   "execution_count": null,
   "id": "05bee9d6",
   "metadata": {},
   "outputs": [],
   "source": [
    "A1 = A1.to_numpy()\n",
    "A2 = A2.to_numpy()\n",
    "\n",
    "y_a1 = y_a1.to_numpy()\n",
    "y_a2 = y_a2.to_numpy()\n",
    "\n",
    "print(A1.shape, A2.shape)"
   ]
  },
  {
   "cell_type": "markdown",
   "id": "917fb584",
   "metadata": {},
   "source": [
    "### Generate random samples"
   ]
  },
  {
   "cell_type": "code",
   "execution_count": null,
   "id": "eba5909c",
   "metadata": {},
   "outputs": [],
   "source": [
    "import random\n",
    "\n",
    "def generating_samples(input_, target_):\n",
    "     \n",
    "    s_rows = random.sample(range(len(input_)),int(len(input_)*0.60))  \n",
    "    sample_data = list()\n",
    "    target_data = list()\n",
    "    \n",
    "    for i in s_rows:\n",
    "      sample_data.append(input_[i])\n",
    "        \n",
    "    target_data = target_[s_rows].tolist()\n",
    "    \n",
    "    \n",
    "    \n",
    "    return sample_data, target_data, s_rows"
   ]
  },
  {
   "cell_type": "code",
   "execution_count": null,
   "id": "8755c5de",
   "metadata": {},
   "outputs": [],
   "source": [
    "# Create 200 samples using generating_samples function\n",
    "input_data =[]\n",
    "output_data =[]\n",
    "selected_rows = []\n",
    "\n",
    "f = 200\n",
    "\n",
    "for i in tqdm_notebook(range(f)):\n",
    "    a,b,c = generating_samples(A1, y_a1)\n",
    "    input_data.append(a)\n",
    "    output_data.append(b)\n",
    "    selected_rows.append(c)"
   ]
  },
  {
   "cell_type": "markdown",
   "id": "2b3562cf",
   "metadata": {},
   "source": [
    "## Regression Decision Tree"
   ]
  },
  {
   "cell_type": "code",
   "execution_count": null,
   "id": "0e7fb05a",
   "metadata": {},
   "outputs": [],
   "source": [
    "list_all_models = list()\n",
    "\n",
    "for i in tqdm_notebook(range(len(input_data))):\n",
    "    \n",
    "    k = np.array(input_data[i])\n",
    "    j = np.array(output_data[i])\n",
    "      \n",
    "    model = DecisionTreeRegressor(max_depth = None)\n",
    "    model.fit(k,j)\n",
    "    \n",
    "    list_all_models.append(model)\n",
    "\n"
   ]
  },
  {
   "cell_type": "markdown",
   "id": "09f0610a",
   "metadata": {},
   "source": [
    "## Step 3: We pass the A2 set to each k models, then we will get k predictions for A2 for each model."
   ]
  },
  {
   "cell_type": "code",
   "execution_count": null,
   "id": "88fd99a5",
   "metadata": {},
   "outputs": [],
   "source": [
    "k_predictions = list()\n",
    "\n",
    "for i in list_all_models:\n",
    "  k_predictions.append(i.predict(A2))"
   ]
  },
  {
   "cell_type": "code",
   "execution_count": null,
   "id": "47cc21a5",
   "metadata": {},
   "outputs": [],
   "source": [
    "k_predictions = np.array(k_predictions)\n",
    "k_predictions = k_predictions.T\n",
    "k_predictions.shape"
   ]
  },
  {
   "cell_type": "markdown",
   "id": "f14ffdb5",
   "metadata": {},
   "source": [
    "## Step 4: We then use the k predictions to create a new dataset, and for A2, since we know it's target values, we can use the k predictions to train a meta model."
   ]
  },
  {
   "cell_type": "code",
   "execution_count": null,
   "id": "07b6a782",
   "metadata": {},
   "outputs": [],
   "source": [
    "# Using Linear Regression Model\n",
    "from sklearn.linear_model import LinearRegression\n",
    "reg = LinearRegression().fit(k_predictions, y_a2)\n",
    "\n",
    "print(\"MSE for train is: \", mean_squared_error(reg.predict(k_predictions), y_a2))"
   ]
  },
  {
   "cell_type": "markdown",
   "id": "36de2b44",
   "metadata": {},
   "source": [
    "## Step 5: For the model evaluation, we use the 20% data that we kept as the test set. \n",
    "## Pass that test set to each base model and we will get 'k' predictions. \n",
    "## We then create a new dataset using these k predictions and pass it to our meta model to get the final prediction. We can calculate the models performance score using this final prediction as well as the targets for the test set."
   ]
  },
  {
   "cell_type": "code",
   "execution_count": null,
   "id": "862d0f6c",
   "metadata": {},
   "outputs": [],
   "source": [
    "# Testing the Model\n",
    "test_pred = list()\n",
    "\n",
    "for model in list_all_models:\n",
    "  test_pred.append(model.predict(x_cv))\n",
    "\n",
    "test_pred = np.array(test_pred)\n",
    "test_pred = test_pred.T\n",
    "\n",
    "print(\"Model Performance score for test data is: \", reg.score(test_pred, y_cv))"
   ]
  },
  {
   "cell_type": "code",
   "execution_count": null,
   "id": "69da98e8",
   "metadata": {},
   "outputs": [],
   "source": [
    "# Mean Sqaured Error for test data is:\n",
    "\n",
    "mse = mean_squared_error(reg.predict(test_pred), y_cv)\n",
    "print(mse)"
   ]
  },
  {
   "cell_type": "markdown",
   "id": "eb723d5e",
   "metadata": {},
   "source": [
    "### Predicting the house prices for test.csv file data"
   ]
  },
  {
   "cell_type": "code",
   "execution_count": null,
   "id": "4fbf1d8d",
   "metadata": {},
   "outputs": [],
   "source": [
    "x_test = xTest.copy()\n",
    "test_id = x_test['id']\n",
    "x_test.drop(['id','timestamp'],axis=1,inplace=True)\n",
    "print(x_test.shape)"
   ]
  },
  {
   "cell_type": "code",
   "execution_count": null,
   "id": "a4d6bf22",
   "metadata": {},
   "outputs": [],
   "source": [
    "# Predict the House prices\n",
    "# Preparing test data:\n",
    "\n",
    "num = xTrain.select_dtypes(exclude=['object'])\n",
    "cat = xTrain.select_dtypes(include=['object']).copy()\n",
    "\n",
    "\n",
    "for c in cat:\n",
    "  labelEnc = preprocessing.LabelEncoder()\n",
    "  labelEnc.fit(xTrain[c])\n",
    "\n",
    "  x_test[c] = x_test[c].map(lambda s: '<unknown>' if s not in labelEnc.classes_ else s)\n",
    "  labelEnc.classes_ = np.append(labelEnc.classes_, '<unknown>')\n",
    "\n",
    "  x_test[c] = labelEnc.transform(x_test[c])\n",
    "\n",
    "for c in num:\n",
    "  min = xTrain[c].min()\n",
    "  max = xTrain[c].max()\n",
    "\n",
    "  x_test[c] = (x_test[c] - min)/(max-min)\n",
    "\n"
   ]
  },
  {
   "cell_type": "code",
   "execution_count": null,
   "id": "6b0be7da",
   "metadata": {},
   "outputs": [],
   "source": [
    "# Predict the House prices \n",
    "# Testing the Model\n",
    "test_pred = list()\n",
    "\n",
    "for model in list_all_models:\n",
    "  test_pred.append(model.predict(x_test))\n",
    "\n",
    "test_pred = np.array(test_pred)\n",
    "test_pred = test_pred.T\n",
    "pred = reg.predict(test_pred)\n",
    "\n"
   ]
  },
  {
   "cell_type": "code",
   "execution_count": null,
   "id": "0339a709",
   "metadata": {},
   "outputs": [],
   "source": [
    "x_test['price_doc'] = np.expm1(pred)\n",
    "x_test.head(10)"
   ]
  },
  {
   "cell_type": "code",
   "execution_count": null,
   "id": "ec32dc5b",
   "metadata": {},
   "outputs": [],
   "source": [
    "# Dump the test data with predicted price into the csv file\n",
    "x_test['id'] = test_id\n",
    "x_test[['id','price_doc']].to_csv('output_file.csv',index=False)"
   ]
  }
 ],
 "metadata": {
  "colab": {
   "collapsed_sections": [
    "1d649c4a-48b1-4ddf-9c6c-61154fc3eb69",
    "3fc7bc7b-a329-4d0a-8378-ecd214a94a5c",
    "f43233fd-d92c-45c3-a983-6760d17f8af2",
    "3db5652b-0e4c-4483-9ae4-c12cfc02cad9",
    "eacd3859-1644-49e7-b823-ecaa1a1e1309",
    "9fd74c3a-7d03-4ef1-88f5-512543ea2743",
    "ad7d8de9-ce0e-49ff-9182-d43884be8de9",
    "76333052-72ea-49d9-9bae-dfc14cb16a97",
    "b2c02a57-93c2-48a1-811f-a0a098007051",
    "cb448266-8c1d-43f4-a546-cd1da680cc5d",
    "e7611d91-b2bb-463f-afec-d61387c96aa9",
    "f6467dc8-edbf-42f4-a5da-2b943280d570",
    "a249ef17-e4c0-4dc6-9c37-d99bddfe4397",
    "dc7fd1ae-6b64-477d-a07d-2c39691ee4c9",
    "dfcbad98-798b-4726-9945-65f0621e9a6c",
    "13a68d3a-924b-418f-aa40-7e2d781d7cd4",
    "12015471-eacf-408c-823a-99a86a89a3f5",
    "81987137-ad1d-4c38-b4fd-5afa0d179f45",
    "5a556eaa-ce64-42cd-bc3b-012dd80e6abb"
   ],
   "name": "ExploratoryDataAnalysis.ipynb",
   "provenance": []
  },
  "kernelspec": {
   "display_name": "Python 3 (ipykernel)",
   "language": "python",
   "name": "python3"
  },
  "language_info": {
   "codemirror_mode": {
    "name": "ipython",
    "version": 3
   },
   "file_extension": ".py",
   "mimetype": "text/x-python",
   "name": "python",
   "nbconvert_exporter": "python",
   "pygments_lexer": "ipython3",
   "version": "3.9.7"
  }
 },
 "nbformat": 4,
 "nbformat_minor": 5
}
